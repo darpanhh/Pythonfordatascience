{
 "cells": [
  {
   "cell_type": "code",
   "execution_count": 1,
   "id": "21b5b483",
   "metadata": {},
   "outputs": [],
   "source": [
    "json_string = '''\n",
    "{\n",
    "    \"name\": \"Maulik\",\n",
    "    \"age\": 30,\n",
    "    \"is_employee\": true,\n",
    "    \"skills\": [\"Python\", \"Data Analysis\", \"Machine Learning\"],\n",
    "    \"address\": {\n",
    "        \"street\": \"123 Main St\",\n",
    "        \"city\": \"Wonderland\"\n",
    "    }\n",
    "}\n",
    "'''"
   ]
  },
  {
   "cell_type": "code",
   "execution_count": 2,
   "id": "e16621e5",
   "metadata": {},
   "outputs": [
    {
     "data": {
      "text/plain": [
       "'\\n{\\n    \"name\": \"Maulik\",\\n    \"age\": 30,\\n    \"is_employee\": true,\\n    \"skills\": [\"Python\", \"Data Analysis\", \"Machine Learning\"],\\n    \"address\": {\\n        \"street\": \"123 Main St\",\\n        \"city\": \"Wonderland\"\\n    }\\n}\\n'"
      ]
     },
     "execution_count": 2,
     "metadata": {},
     "output_type": "execute_result"
    }
   ],
   "source": [
    "json_string"
   ]
  },
  {
   "cell_type": "code",
   "execution_count": 3,
   "id": "cc6224aa",
   "metadata": {},
   "outputs": [],
   "source": [
    "import json"
   ]
  },
  {
   "cell_type": "code",
   "execution_count": 4,
   "id": "ab3460b5",
   "metadata": {},
   "outputs": [
    {
     "data": {
      "text/plain": [
       "str"
      ]
     },
     "execution_count": 4,
     "metadata": {},
     "output_type": "execute_result"
    }
   ],
   "source": [
    "type(json_string)"
   ]
  },
  {
   "cell_type": "code",
   "execution_count": 5,
   "id": "7fd18fbf",
   "metadata": {},
   "outputs": [
    {
     "data": {
      "text/plain": [
       "{'name': 'Maulik',\n",
       " 'age': 30,\n",
       " 'is_employee': True,\n",
       " 'skills': ['Python', 'Data Analysis', 'Machine Learning'],\n",
       " 'address': {'street': '123 Main St', 'city': 'Wonderland'}}"
      ]
     },
     "execution_count": 5,
     "metadata": {},
     "output_type": "execute_result"
    }
   ],
   "source": [
    "record = json.loads(json_string)\n",
    "record"
   ]
  },
  {
   "cell_type": "code",
   "execution_count": 6,
   "id": "a9451ccb",
   "metadata": {},
   "outputs": [
    {
     "data": {
      "text/plain": [
       "dict"
      ]
     },
     "execution_count": 6,
     "metadata": {},
     "output_type": "execute_result"
    }
   ],
   "source": [
    "type(record)"
   ]
  },
  {
   "cell_type": "code",
   "execution_count": 7,
   "id": "922b3597",
   "metadata": {},
   "outputs": [
    {
     "data": {
      "text/plain": [
       "'Maulik'"
      ]
     },
     "execution_count": 7,
     "metadata": {},
     "output_type": "execute_result"
    }
   ],
   "source": [
    "record['name']"
   ]
  },
  {
   "cell_type": "code",
   "execution_count": 9,
   "id": "5899aabf",
   "metadata": {},
   "outputs": [],
   "source": [
    "data = {\n",
    "    \"name\": \"Bob\",\n",
    "    \"age\": 25,\n",
    "    \"is_employee\": False,\n",
    "    \"skills\": [\"JavaScript\", \"Web Development\"],\n",
    "    \"address\": {\n",
    "        \"street\": \"456 Elm St\",\n",
    "        \"city\": \"Springfield\"\n",
    "    }\n",
    "}\n",
    "data_str = json.dumps(data)"
   ]
  },
  {
   "cell_type": "code",
   "execution_count": 10,
   "id": "c5b44e08",
   "metadata": {},
   "outputs": [
    {
     "data": {
      "text/plain": [
       "'{\"name\": \"Bob\", \"age\": 25, \"is_employee\": false, \"skills\": [\"JavaScript\", \"Web Development\"], \"address\": {\"street\": \"456 Elm St\", \"city\": \"Springfield\"}}'"
      ]
     },
     "execution_count": 10,
     "metadata": {},
     "output_type": "execute_result"
    }
   ],
   "source": [
    "data_str"
   ]
  },
  {
   "cell_type": "code",
   "execution_count": 11,
   "id": "e2b66221",
   "metadata": {},
   "outputs": [
    {
     "data": {
      "text/plain": [
       "str"
      ]
     },
     "execution_count": 11,
     "metadata": {},
     "output_type": "execute_result"
    }
   ],
   "source": [
    "type(data_str)"
   ]
  },
  {
   "cell_type": "code",
   "execution_count": 18,
   "id": "1c510847",
   "metadata": {},
   "outputs": [],
   "source": [
    "with open('output.json', 'w') as file:\n",
    "    json.dump(data,file,indent=4)"
   ]
  },
  {
   "cell_type": "code",
   "execution_count": 14,
   "id": "51a8c4b5",
   "metadata": {},
   "outputs": [
    {
     "data": {
      "text/plain": [
       "[{'product_id': 1,\n",
       "  'sku': 'ABC123',\n",
       "  'name': 'Wireless Mouse',\n",
       "  'price': 25.99,\n",
       "  'description': 'A comfortable wireless mouse with ergonomic design.',\n",
       "  'in_stock': True,\n",
       "  'category': 'Electronics'},\n",
       " {'product_id': 2,\n",
       "  'sku': 'XYZ789',\n",
       "  'name': 'Mechanical Keyboard',\n",
       "  'price': 89.99,\n",
       "  'description': 'A high-quality mechanical keyboard with customizable keys.',\n",
       "  'in_stock': True,\n",
       "  'category': 'Electronics'},\n",
       " {'product_id': 3,\n",
       "  'sku': 'LMN456',\n",
       "  'name': 'USB-C Charger',\n",
       "  'price': 19.99,\n",
       "  'description': 'A fast-charging USB-C charger with multiple ports.',\n",
       "  'in_stock': False,\n",
       "  'category': 'Accessories'},\n",
       " {'product_id': 4,\n",
       "  'sku': 'QWE234',\n",
       "  'name': 'Bluetooth Speaker',\n",
       "  'price': 49.99,\n",
       "  'description': 'A portable Bluetooth speaker with excellent sound quality.',\n",
       "  'in_stock': True,\n",
       "  'category': 'Audio'},\n",
       " {'product_id': 5,\n",
       "  'sku': 'RTY678',\n",
       "  'name': 'Smartphone Stand',\n",
       "  'price': 14.99,\n",
       "  'description': 'An adjustable smartphone stand for hands-free viewing.',\n",
       "  'in_stock': True,\n",
       "  'category': 'Accessories'}]"
      ]
     },
     "execution_count": 14,
     "metadata": {},
     "output_type": "execute_result"
    }
   ],
   "source": [
    "with open('products.json', 'r') as file:\n",
    "    products = json.load(file)\n",
    "products"
   ]
  },
  {
   "cell_type": "code",
   "execution_count": 15,
   "id": "18ffc69e",
   "metadata": {},
   "outputs": [
    {
     "data": {
      "text/plain": [
       "{'product_id': 1,\n",
       " 'sku': 'ABC123',\n",
       " 'name': 'Wireless Mouse',\n",
       " 'price': 25.99,\n",
       " 'description': 'A comfortable wireless mouse with ergonomic design.',\n",
       " 'in_stock': True,\n",
       " 'category': 'Electronics'}"
      ]
     },
     "execution_count": 15,
     "metadata": {},
     "output_type": "execute_result"
    }
   ],
   "source": [
    "products[0]"
   ]
  },
  {
   "cell_type": "code",
   "execution_count": 16,
   "id": "27c495dd",
   "metadata": {},
   "outputs": [
    {
     "data": {
      "text/plain": [
       "25.99"
      ]
     },
     "execution_count": 16,
     "metadata": {},
     "output_type": "execute_result"
    }
   ],
   "source": [
    "products[0]['price']"
   ]
  },
  {
   "cell_type": "code",
   "execution_count": 19,
   "id": "425fb2ae",
   "metadata": {},
   "outputs": [],
   "source": [
    "json_string = '''\n",
    "{\n",
    "    \"books\": [\n",
    "        {\"title\": \"The Magic Of Thinking Big\", \"author\": \"David J. Schwartz\", \"published\": 1959},\n",
    "        {\"title\": \"Chanakya Neeti\", \"author\": \"B.K. Chaturvedi\", \"published\": 2009},\n",
    "        {\"title\": \"How to Win Friends and Influence People\", \"author\": \"Dale Karnegie\", \"published\": 1936}\n",
    "    ],\n",
    "    \"status_code\": 200\n",
    "}\n",
    "'''"
   ]
  },
  {
   "cell_type": "code",
   "execution_count": 22,
   "id": "c54aa3bc",
   "metadata": {},
   "outputs": [
    {
     "data": {
      "text/plain": [
       "{'books': [{'title': 'The Magic Of Thinking Big',\n",
       "   'author': 'David J. Schwartz',\n",
       "   'published': 1959},\n",
       "  {'title': 'Chanakya Neeti', 'author': 'B.K. Chaturvedi', 'published': 2009},\n",
       "  {'title': 'How to Win Friends and Influence People',\n",
       "   'author': 'Dale Karnegie',\n",
       "   'published': 1936}],\n",
       " 'status_code': 200}"
      ]
     },
     "execution_count": 22,
     "metadata": {},
     "output_type": "execute_result"
    }
   ],
   "source": [
    "data = json.loads(json_string)\n",
    "data"
   ]
  },
  {
   "cell_type": "code",
   "execution_count": 24,
   "id": "1ed23ce9",
   "metadata": {},
   "outputs": [],
   "source": [
    "books= data['books']"
   ]
  },
  {
   "cell_type": "code",
   "execution_count": 25,
   "id": "71fb9292",
   "metadata": {},
   "outputs": [
    {
     "data": {
      "text/plain": [
       "[{'title': 'The Magic Of Thinking Big',\n",
       "  'author': 'David J. Schwartz',\n",
       "  'published': 1959},\n",
       " {'title': 'Chanakya Neeti', 'author': 'B.K. Chaturvedi', 'published': 2009},\n",
       " {'title': 'How to Win Friends and Influence People',\n",
       "  'author': 'Dale Karnegie',\n",
       "  'published': 1936}]"
      ]
     },
     "execution_count": 25,
     "metadata": {},
     "output_type": "execute_result"
    }
   ],
   "source": [
    "books"
   ]
  },
  {
   "cell_type": "code",
   "execution_count": 34,
   "id": "465f7ed2",
   "metadata": {},
   "outputs": [
    {
     "data": {
      "text/plain": [
       "[{'Title': 'The Magic Of Thinking Big', 'author': 'David J. Schwartz'},\n",
       " {'Title': 'Chanakya Neeti', 'author': 'B.K. Chaturvedi'},\n",
       " {'Title': 'How to Win Friends and Influence People',\n",
       "  'author': 'Dale Karnegie'}]"
      ]
     },
     "execution_count": 34,
     "metadata": {},
     "output_type": "execute_result"
    }
   ],
   "source": [
    "book_info = [{\"Title\": book['title'], \"author\": book['author']} for book in books]\n",
    "book_info"
   ]
  },
  {
   "cell_type": "code",
   "execution_count": null,
   "id": "411c4587",
   "metadata": {},
   "outputs": [],
   "source": [
    "# Malformed JSON string\n",
    "json_string = '''\n",
    "{\n",
    "    \"name\": \"Krishna\",\n",
    "    \"age\": 30\n",
    "    \"is_employee\": true\n",
    "}\n",
    "'''"
   ]
  },
  {
   "cell_type": "code",
   "execution_count": 36,
   "id": "bd5a1fb2",
   "metadata": {},
   "outputs": [
    {
     "ename": "JSONDecodeError",
     "evalue": "Expecting ',' delimiter: line 5 column 5 (char 44)",
     "output_type": "error",
     "traceback": [
      "\u001b[1;31m---------------------------------------------------------------------------\u001b[0m",
      "\u001b[1;31mJSONDecodeError\u001b[0m                           Traceback (most recent call last)",
      "Cell \u001b[1;32mIn[36], line 1\u001b[0m\n\u001b[1;32m----> 1\u001b[0m json\u001b[38;5;241m.\u001b[39mloads(json_string)\n",
      "File \u001b[1;32mc:\\Users\\Dell\\anaconda3\\Lib\\json\\__init__.py:346\u001b[0m, in \u001b[0;36mloads\u001b[1;34m(s, cls, object_hook, parse_float, parse_int, parse_constant, object_pairs_hook, **kw)\u001b[0m\n\u001b[0;32m    341\u001b[0m     s \u001b[38;5;241m=\u001b[39m s\u001b[38;5;241m.\u001b[39mdecode(detect_encoding(s), \u001b[38;5;124m'\u001b[39m\u001b[38;5;124msurrogatepass\u001b[39m\u001b[38;5;124m'\u001b[39m)\n\u001b[0;32m    343\u001b[0m \u001b[38;5;28;01mif\u001b[39;00m (\u001b[38;5;28mcls\u001b[39m \u001b[38;5;129;01mis\u001b[39;00m \u001b[38;5;28;01mNone\u001b[39;00m \u001b[38;5;129;01mand\u001b[39;00m object_hook \u001b[38;5;129;01mis\u001b[39;00m \u001b[38;5;28;01mNone\u001b[39;00m \u001b[38;5;129;01mand\u001b[39;00m\n\u001b[0;32m    344\u001b[0m         parse_int \u001b[38;5;129;01mis\u001b[39;00m \u001b[38;5;28;01mNone\u001b[39;00m \u001b[38;5;129;01mand\u001b[39;00m parse_float \u001b[38;5;129;01mis\u001b[39;00m \u001b[38;5;28;01mNone\u001b[39;00m \u001b[38;5;129;01mand\u001b[39;00m\n\u001b[0;32m    345\u001b[0m         parse_constant \u001b[38;5;129;01mis\u001b[39;00m \u001b[38;5;28;01mNone\u001b[39;00m \u001b[38;5;129;01mand\u001b[39;00m object_pairs_hook \u001b[38;5;129;01mis\u001b[39;00m \u001b[38;5;28;01mNone\u001b[39;00m \u001b[38;5;129;01mand\u001b[39;00m \u001b[38;5;129;01mnot\u001b[39;00m kw):\n\u001b[1;32m--> 346\u001b[0m     \u001b[38;5;28;01mreturn\u001b[39;00m _default_decoder\u001b[38;5;241m.\u001b[39mdecode(s)\n\u001b[0;32m    347\u001b[0m \u001b[38;5;28;01mif\u001b[39;00m \u001b[38;5;28mcls\u001b[39m \u001b[38;5;129;01mis\u001b[39;00m \u001b[38;5;28;01mNone\u001b[39;00m:\n\u001b[0;32m    348\u001b[0m     \u001b[38;5;28mcls\u001b[39m \u001b[38;5;241m=\u001b[39m JSONDecoder\n",
      "File \u001b[1;32mc:\\Users\\Dell\\anaconda3\\Lib\\json\\decoder.py:337\u001b[0m, in \u001b[0;36mJSONDecoder.decode\u001b[1;34m(self, s, _w)\u001b[0m\n\u001b[0;32m    332\u001b[0m \u001b[38;5;28;01mdef\u001b[39;00m \u001b[38;5;21mdecode\u001b[39m(\u001b[38;5;28mself\u001b[39m, s, _w\u001b[38;5;241m=\u001b[39mWHITESPACE\u001b[38;5;241m.\u001b[39mmatch):\n\u001b[0;32m    333\u001b[0m \u001b[38;5;250m    \u001b[39m\u001b[38;5;124;03m\"\"\"Return the Python representation of ``s`` (a ``str`` instance\u001b[39;00m\n\u001b[0;32m    334\u001b[0m \u001b[38;5;124;03m    containing a JSON document).\u001b[39;00m\n\u001b[0;32m    335\u001b[0m \n\u001b[0;32m    336\u001b[0m \u001b[38;5;124;03m    \"\"\"\u001b[39;00m\n\u001b[1;32m--> 337\u001b[0m     obj, end \u001b[38;5;241m=\u001b[39m \u001b[38;5;28mself\u001b[39m\u001b[38;5;241m.\u001b[39mraw_decode(s, idx\u001b[38;5;241m=\u001b[39m_w(s, \u001b[38;5;241m0\u001b[39m)\u001b[38;5;241m.\u001b[39mend())\n\u001b[0;32m    338\u001b[0m     end \u001b[38;5;241m=\u001b[39m _w(s, end)\u001b[38;5;241m.\u001b[39mend()\n\u001b[0;32m    339\u001b[0m     \u001b[38;5;28;01mif\u001b[39;00m end \u001b[38;5;241m!=\u001b[39m \u001b[38;5;28mlen\u001b[39m(s):\n",
      "File \u001b[1;32mc:\\Users\\Dell\\anaconda3\\Lib\\json\\decoder.py:353\u001b[0m, in \u001b[0;36mJSONDecoder.raw_decode\u001b[1;34m(self, s, idx)\u001b[0m\n\u001b[0;32m    344\u001b[0m \u001b[38;5;250m\u001b[39m\u001b[38;5;124;03m\"\"\"Decode a JSON document from ``s`` (a ``str`` beginning with\u001b[39;00m\n\u001b[0;32m    345\u001b[0m \u001b[38;5;124;03ma JSON document) and return a 2-tuple of the Python\u001b[39;00m\n\u001b[0;32m    346\u001b[0m \u001b[38;5;124;03mrepresentation and the index in ``s`` where the document ended.\u001b[39;00m\n\u001b[1;32m   (...)\u001b[0m\n\u001b[0;32m    350\u001b[0m \n\u001b[0;32m    351\u001b[0m \u001b[38;5;124;03m\"\"\"\u001b[39;00m\n\u001b[0;32m    352\u001b[0m \u001b[38;5;28;01mtry\u001b[39;00m:\n\u001b[1;32m--> 353\u001b[0m     obj, end \u001b[38;5;241m=\u001b[39m \u001b[38;5;28mself\u001b[39m\u001b[38;5;241m.\u001b[39mscan_once(s, idx)\n\u001b[0;32m    354\u001b[0m \u001b[38;5;28;01mexcept\u001b[39;00m \u001b[38;5;167;01mStopIteration\u001b[39;00m \u001b[38;5;28;01mas\u001b[39;00m err:\n\u001b[0;32m    355\u001b[0m     \u001b[38;5;28;01mraise\u001b[39;00m JSONDecodeError(\u001b[38;5;124m\"\u001b[39m\u001b[38;5;124mExpecting value\u001b[39m\u001b[38;5;124m\"\u001b[39m, s, err\u001b[38;5;241m.\u001b[39mvalue) \u001b[38;5;28;01mfrom\u001b[39;00m \u001b[38;5;28;01mNone\u001b[39;00m\n",
      "\u001b[1;31mJSONDecodeError\u001b[0m: Expecting ',' delimiter: line 5 column 5 (char 44)"
     ]
    }
   ],
   "source": [
    "json.loads(json_string)"
   ]
  },
  {
   "cell_type": "code",
   "execution_count": 39,
   "id": "b3a4682d",
   "metadata": {},
   "outputs": [
    {
     "name": "stdout",
     "output_type": "stream",
     "text": [
      "Failed to parse json: Expecting ',' delimiter: line 5 column 5 (char 44)\n"
     ]
    }
   ],
   "source": [
    "try:\n",
    "    data = json.loads(json_string)\n",
    "except json.JSONDecodeError as e:\n",
    "    print(f\"Failed to parse json: {e}\")\n",
    "    "
   ]
  },
  {
   "cell_type": "code",
   "execution_count": null,
   "id": "46e40414",
   "metadata": {},
   "outputs": [],
   "source": []
  }
 ],
 "metadata": {
  "kernelspec": {
   "display_name": "base",
   "language": "python",
   "name": "python3"
  },
  "language_info": {
   "codemirror_mode": {
    "name": "ipython",
    "version": 3
   },
   "file_extension": ".py",
   "mimetype": "text/x-python",
   "name": "python",
   "nbconvert_exporter": "python",
   "pygments_lexer": "ipython3",
   "version": "3.12.7"
  }
 },
 "nbformat": 4,
 "nbformat_minor": 5
}
