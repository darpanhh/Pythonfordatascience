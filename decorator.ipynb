{
 "cells": [
  {
   "cell_type": "code",
   "execution_count": 5,
   "id": "db6e3756",
   "metadata": {},
   "outputs": [],
   "source": [
    "import time\n",
    "\n",
    "def get_square(numbers):\n",
    "    start = time.time()\n",
    "    result= []\n",
    "    for n in numbers:\n",
    "        result.append(n*n)\n",
    "    end = time.time()\n",
    "    print(f\"Python list took {(end-start)*1000} mili seconds\")\n",
    "    return result"
   ]
  },
  {
   "cell_type": "code",
   "execution_count": 6,
   "id": "991b5e23",
   "metadata": {},
   "outputs": [],
   "source": [
    "def get_cube(numbers):\n",
    "    start = time.time()\n",
    "    result= []\n",
    "    for n in numbers:\n",
    "        result.append(n*n*n)\n",
    "    end = time.time()\n",
    "    print(f\"Python list took {(end-start)*1000} mili seconds\")\n",
    "    return result"
   ]
  },
  {
   "cell_type": "code",
   "execution_count": 7,
   "id": "1207023c",
   "metadata": {},
   "outputs": [
    {
     "name": "stdout",
     "output_type": "stream",
     "text": [
      "Python list took 0.0 mili seconds\n"
     ]
    },
    {
     "data": {
      "text/plain": [
       "[1, 4, 9, 16, 25]"
      ]
     },
     "execution_count": 7,
     "metadata": {},
     "output_type": "execute_result"
    }
   ],
   "source": [
    "my_list = [1,2,3,4,5]\n",
    "get_square(my_list)"
   ]
  },
  {
   "cell_type": "code",
   "execution_count": 8,
   "id": "32c36df9",
   "metadata": {},
   "outputs": [
    {
     "name": "stdout",
     "output_type": "stream",
     "text": [
      "Python list took 0.0 mili seconds\n"
     ]
    },
    {
     "data": {
      "text/plain": [
       "[1, 8, 27, 64, 125]"
      ]
     },
     "execution_count": 8,
     "metadata": {},
     "output_type": "execute_result"
    }
   ],
   "source": [
    "my_list = [1,2,3,4,5]\n",
    "get_cube(my_list)"
   ]
  },
  {
   "cell_type": "code",
   "execution_count": 9,
   "id": "ce2e09db",
   "metadata": {},
   "outputs": [
    {
     "name": "stdout",
     "output_type": "stream",
     "text": [
      "Python list took 11.827230453491211 mili seconds\n"
     ]
    }
   ],
   "source": [
    "_ = get_cube(range(100000))"
   ]
  },
  {
   "cell_type": "code",
   "execution_count": 10,
   "id": "aadc5be2",
   "metadata": {},
   "outputs": [
    {
     "name": "stdout",
     "output_type": "stream",
     "text": [
      "Python list took 6.20579719543457 mili seconds\n"
     ]
    }
   ],
   "source": [
    "_ = get_square(range(100000))"
   ]
  },
  {
   "cell_type": "code",
   "execution_count": 14,
   "id": "891355d7",
   "metadata": {},
   "outputs": [],
   "source": [
    "import time \n",
    "def timer(func):\n",
    "    def wrapper(*args,**kwargs):\n",
    "        start = time.time()\n",
    "        result = func(*args,**kwargs)\n",
    "        end = time.time()\n",
    "        print(f\"function {func.__name__} took {(end-start)*1000} miliseconds\")\n",
    "        return result\n",
    "    return wrapper\n",
    "        "
   ]
  },
  {
   "cell_type": "code",
   "execution_count": 12,
   "id": "e0e1334f",
   "metadata": {},
   "outputs": [],
   "source": [
    "@timer\n",
    "def get_square(numbers):\n",
    "    result= []\n",
    "    for n in numbers:\n",
    "        result.append(n*n)\n",
    "    return result"
   ]
  },
  {
   "cell_type": "code",
   "execution_count": 13,
   "id": "c81a86c9",
   "metadata": {},
   "outputs": [],
   "source": [
    "@timer\n",
    "def get_cube(numbers):\n",
    "    result = []\n",
    "    for n in numbers:\n",
    "        result.append(n*n*n)\n",
    "    return result  "
   ]
  },
  {
   "cell_type": "code",
   "execution_count": 15,
   "id": "3fb93dde",
   "metadata": {},
   "outputs": [
    {
     "name": "stdout",
     "output_type": "stream",
     "text": [
      "function get_square took 6.89697265625 miliseconds\n"
     ]
    }
   ],
   "source": [
    "_ = get_square(range(100000))"
   ]
  },
  {
   "cell_type": "markdown",
   "id": "94370828",
   "metadata": {},
   "source": []
  },
  {
   "cell_type": "code",
   "execution_count": null,
   "id": "698ae703",
   "metadata": {},
   "outputs": [],
   "source": []
  }
 ],
 "metadata": {
  "kernelspec": {
   "display_name": "base",
   "language": "python",
   "name": "python3"
  },
  "language_info": {
   "codemirror_mode": {
    "name": "ipython",
    "version": 3
   },
   "file_extension": ".py",
   "mimetype": "text/x-python",
   "name": "python",
   "nbconvert_exporter": "python",
   "pygments_lexer": "ipython3",
   "version": "3.12.7"
  }
 },
 "nbformat": 4,
 "nbformat_minor": 5
}
