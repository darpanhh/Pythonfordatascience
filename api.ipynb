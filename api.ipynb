{
 "cells": [
  {
   "cell_type": "code",
   "execution_count": 1,
   "id": "129b5ed4",
   "metadata": {},
   "outputs": [],
   "source": [
    "import requests"
   ]
  },
  {
   "cell_type": "code",
   "execution_count": 3,
   "id": "3a42389a",
   "metadata": {},
   "outputs": [],
   "source": [
    "url = \"https://jsonplaceholder.typicode.com/posts\"\n",
    "response = requests.get(url)"
   ]
  },
  {
   "cell_type": "code",
   "execution_count": 6,
   "id": "6e010a8a",
   "metadata": {},
   "outputs": [
    {
     "data": {
      "text/plain": [
       "['__attrs__',\n",
       " '__bool__',\n",
       " '__class__',\n",
       " '__delattr__',\n",
       " '__dict__',\n",
       " '__dir__',\n",
       " '__doc__',\n",
       " '__enter__',\n",
       " '__eq__',\n",
       " '__exit__',\n",
       " '__format__',\n",
       " '__ge__',\n",
       " '__getattribute__',\n",
       " '__getstate__',\n",
       " '__gt__',\n",
       " '__hash__',\n",
       " '__init__',\n",
       " '__init_subclass__',\n",
       " '__iter__',\n",
       " '__le__',\n",
       " '__lt__',\n",
       " '__module__',\n",
       " '__ne__',\n",
       " '__new__',\n",
       " '__nonzero__',\n",
       " '__reduce__',\n",
       " '__reduce_ex__',\n",
       " '__repr__',\n",
       " '__setattr__',\n",
       " '__setstate__',\n",
       " '__sizeof__',\n",
       " '__str__',\n",
       " '__subclasshook__',\n",
       " '__weakref__',\n",
       " '_content',\n",
       " '_content_consumed',\n",
       " '_next',\n",
       " 'apparent_encoding',\n",
       " 'close',\n",
       " 'connection',\n",
       " 'content',\n",
       " 'cookies',\n",
       " 'elapsed',\n",
       " 'encoding',\n",
       " 'headers',\n",
       " 'history',\n",
       " 'is_permanent_redirect',\n",
       " 'is_redirect',\n",
       " 'iter_content',\n",
       " 'iter_lines',\n",
       " 'json',\n",
       " 'links',\n",
       " 'next',\n",
       " 'ok',\n",
       " 'raise_for_status',\n",
       " 'raw',\n",
       " 'reason',\n",
       " 'request',\n",
       " 'status_code',\n",
       " 'text',\n",
       " 'url']"
      ]
     },
     "execution_count": 6,
     "metadata": {},
     "output_type": "execute_result"
    }
   ],
   "source": [
    "dir(response)"
   ]
  },
  {
   "cell_type": "code",
   "execution_count": 8,
   "id": "19b0d4e5",
   "metadata": {},
   "outputs": [
    {
     "data": {
      "text/plain": [
       "200"
      ]
     },
     "execution_count": 8,
     "metadata": {},
     "output_type": "execute_result"
    }
   ],
   "source": [
    "response.status_code"
   ]
  },
  {
   "cell_type": "code",
   "execution_count": 10,
   "id": "f973e9f0",
   "metadata": {},
   "outputs": [
    {
     "name": "stdout",
     "output_type": "stream",
     "text": [
      "{'userId': 1, 'id': 1, 'title': 'sunt aut facere repellat provident occaecati excepturi optio reprehenderit', 'body': 'quia et suscipit\\nsuscipit recusandae consequuntur expedita et cum\\nreprehenderit molestiae ut ut quas totam\\nnostrum rerum est autem sunt rem eveniet architecto'}\n"
     ]
    }
   ],
   "source": [
    "if response.status_code == 200:\n",
    "    data = response.json()\n",
    "    print(data[0])\n",
    "else:\n",
    "    print(\"Failed to retrieve data\")"
   ]
  },
  {
   "cell_type": "code",
   "execution_count": 12,
   "id": "3b0192f6",
   "metadata": {},
   "outputs": [
    {
     "name": "stdout",
     "output_type": "stream",
     "text": [
      "{'userId': 1, 'title': 'Data Science', 'body': 'Darpan Giri', 'id': 101}\n"
     ]
    }
   ],
   "source": [
    "url = \"https://jsonplaceholder.typicode.com/posts\"\n",
    "data = {\n",
    "    \"userId\":1,\n",
    "    \"title\":\"Data Science\",\n",
    "    \"body\":\"Darpan Giri\"\n",
    "}\n",
    "response = requests.post(url,json = data)\n",
    "if response.status_code == 201:\n",
    "    created_post = response.json()\n",
    "    print(created_post)\n",
    "else:\n",
    "    print('Failed to create data')"
   ]
  },
  {
   "cell_type": "code",
   "execution_count": 13,
   "id": "77cd1b4e",
   "metadata": {},
   "outputs": [
    {
     "name": "stdout",
     "output_type": "stream",
     "text": [
      "Request was successful!\n",
      "{'userId': 1, 'id': 1, 'title': 'sunt aut facere repellat provident occaecati excepturi optio reprehenderit', 'body': 'quia et suscipit\\nsuscipit recusandae consequuntur expedita et cum\\nreprehenderit molestiae ut ut quas totam\\nnostrum rerum est autem sunt rem eveniet architecto'}\n"
     ]
    }
   ],
   "source": [
    "# URL of the API endpoint\n",
    "url = \"https://jsonplaceholder.typicode.com/posts/1\"\n",
    "\n",
    "# Sending a GET request\n",
    "response = requests.get(url)\n",
    "\n",
    "# Handling different status codes\n",
    "if response.status_code == 200:\n",
    "    print(\"Request was successful!\")\n",
    "    print(response.json())\n",
    "elif response.status_code == 404:\n",
    "    print(\"Resource not found.\")\n",
    "else:\n",
    "    print(f\"Failed with status code: {response.status_code}\")"
   ]
  },
  {
   "cell_type": "code",
   "execution_count": 14,
   "id": "02aa6d37",
   "metadata": {},
   "outputs": [
    {
     "name": "stdout",
     "output_type": "stream",
     "text": [
      "[{'userId': 1, 'id': 1, 'title': 'sunt aut facere repellat provident occaecati excepturi optio reprehenderit', 'body': 'quia et suscipit\\nsuscipit recusandae consequuntur expedita et cum\\nreprehenderit molestiae ut ut quas totam\\nnostrum rerum est autem sunt rem eveniet architecto'}, {'userId': 1, 'id': 2, 'title': 'qui est esse', 'body': 'est rerum tempore vitae\\nsequi sint nihil reprehenderit dolor beatae ea dolores neque\\nfugiat blanditiis voluptate porro vel nihil molestiae ut reiciendis\\nqui aperiam non debitis possimus qui neque nisi nulla'}, {'userId': 1, 'id': 3, 'title': 'ea molestias quasi exercitationem repellat qui ipsa sit aut', 'body': 'et iusto sed quo iure\\nvoluptatem occaecati omnis eligendi aut ad\\nvoluptatem doloribus vel accusantium quis pariatur\\nmolestiae porro eius odio et labore et velit aut'}, {'userId': 1, 'id': 4, 'title': 'eum et est occaecati', 'body': 'ullam et saepe reiciendis voluptatem adipisci\\nsit amet autem assumenda provident rerum culpa\\nquis hic commodi nesciunt rem tenetur doloremque ipsam iure\\nquis sunt voluptatem rerum illo velit'}, {'userId': 1, 'id': 5, 'title': 'nesciunt quas odio', 'body': 'repudiandae veniam quaerat sunt sed\\nalias aut fugiat sit autem sed est\\nvoluptatem omnis possimus esse voluptatibus quis\\nest aut tenetur dolor neque'}, {'userId': 1, 'id': 6, 'title': 'dolorem eum magni eos aperiam quia', 'body': 'ut aspernatur corporis harum nihil quis provident sequi\\nmollitia nobis aliquid molestiae\\nperspiciatis et ea nemo ab reprehenderit accusantium quas\\nvoluptate dolores velit et doloremque molestiae'}, {'userId': 1, 'id': 7, 'title': 'magnam facilis autem', 'body': 'dolore placeat quibusdam ea quo vitae\\nmagni quis enim qui quis quo nemo aut saepe\\nquidem repellat excepturi ut quia\\nsunt ut sequi eos ea sed quas'}, {'userId': 1, 'id': 8, 'title': 'dolorem dolore est ipsam', 'body': 'dignissimos aperiam dolorem qui eum\\nfacilis quibusdam animi sint suscipit qui sint possimus cum\\nquaerat magni maiores excepturi\\nipsam ut commodi dolor voluptatum modi aut vitae'}, {'userId': 1, 'id': 9, 'title': 'nesciunt iure omnis dolorem tempora et accusantium', 'body': 'consectetur animi nesciunt iure dolore\\nenim quia ad\\nveniam autem ut quam aut nobis\\net est aut quod aut provident voluptas autem voluptas'}, {'userId': 1, 'id': 10, 'title': 'optio molestias id quia eum', 'body': 'quo et expedita modi cum officia vel magni\\ndoloribus qui repudiandae\\nvero nisi sit\\nquos veniam quod sed accusamus veritatis error'}]\n"
     ]
    }
   ],
   "source": [
    "url = \"https://jsonplaceholder.typicode.com/posts\"\n",
    "params = {\n",
    "    \"userId\":1\n",
    "}\n",
    "response = requests.get(url,params=params)\n",
    "if response.status_code == 200:\n",
    "    data = response.json()\n",
    "    print(data)\n",
    "else:\n",
    "    print(\"Failed to retrieve data\")"
   ]
  },
  {
   "cell_type": "code",
   "execution_count": 17,
   "id": "333e5b82",
   "metadata": {},
   "outputs": [],
   "source": [
    "appid = '5a5bf255aa3f4dd89acbfd42c971d145'\n",
    "url = f\"https://openexchangerates.org/api/latest.json?app_id={appid}\"\n",
    "response = requests.get(url)\n",
    "data = response.json()"
   ]
  },
  {
   "cell_type": "code",
   "execution_count": 18,
   "id": "18780d7d",
   "metadata": {},
   "outputs": [
    {
     "data": {
      "text/plain": [
       "{'disclaimer': 'Usage subject to terms: https://openexchangerates.org/terms',\n",
       " 'license': 'https://openexchangerates.org/license',\n",
       " 'timestamp': 1759820400,\n",
       " 'base': 'USD',\n",
       " 'rates': {'AED': 3.6725,\n",
       "  'AFN': 66.857125,\n",
       "  'ALL': 82.61,\n",
       "  'AMD': 381.258524,\n",
       "  'ANG': 1.79,\n",
       "  'AOA': 911.978,\n",
       "  'ARS': 1429.7378,\n",
       "  'AUD': 1.51568,\n",
       "  'AWG': 1.8,\n",
       "  'AZN': 1.7,\n",
       "  'BAM': 1.670389,\n",
       "  'BBD': 2,\n",
       "  'BDT': 121.312023,\n",
       "  'BGN': 1.6735,\n",
       "  'BHD': 0.377008,\n",
       "  'BIF': 2948.047702,\n",
       "  'BMD': 1,\n",
       "  'BND': 1.289251,\n",
       "  'BOB': 6.908567,\n",
       "  'BRL': 5.3114,\n",
       "  'BSD': 1,\n",
       "  'BTC': 8.064953e-06,\n",
       "  'BTN': 88.426448,\n",
       "  'BWP': 13.277363,\n",
       "  'BYN': 3.379467,\n",
       "  'BZD': 2.003391,\n",
       "  'CAD': 1.395471,\n",
       "  'CDF': 2500.27601,\n",
       "  'CHF': 0.796768,\n",
       "  'CLF': 0.02452,\n",
       "  'CLP': 961.93,\n",
       "  'CNH': 7.14091,\n",
       "  'CNY': 7.1195,\n",
       "  'COP': 3861.627147,\n",
       "  'CRC': 500.65567,\n",
       "  'CUC': 1,\n",
       "  'CUP': 25.75,\n",
       "  'CVE': 94.173947,\n",
       "  'CZK': 20.798249,\n",
       "  'DJF': 177.390249,\n",
       "  'DKK': 6.388137,\n",
       "  'DOP': 62.33853,\n",
       "  'DZD': 129.664013,\n",
       "  'EGP': 47.6316,\n",
       "  'ERN': 15,\n",
       "  'ETB': 144.5,\n",
       "  'EUR': 0.855668,\n",
       "  'FJD': 2.2559,\n",
       "  'FKP': 0.743338,\n",
       "  'GBP': 0.743338,\n",
       "  'GEL': 2.73,\n",
       "  'GGP': 0.743338,\n",
       "  'GHS': 12.551404,\n",
       "  'GIP': 0.743338,\n",
       "  'GMD': 72.333336,\n",
       "  'GNF': 8640.716908,\n",
       "  'GTQ': 7.635413,\n",
       "  'GYD': 208.350223,\n",
       "  'HKD': 7.783015,\n",
       "  'HNL': 26.249999,\n",
       "  'HRK': 6.447107,\n",
       "  'HTG': 130.353628,\n",
       "  'HUF': 332.70638,\n",
       "  'IDR': 16548.486301,\n",
       "  'ILS': 3.27444,\n",
       "  'IMP': 0.743338,\n",
       "  'INR': 88.737291,\n",
       "  'IQD': 1304.931414,\n",
       "  'IRR': 42075,\n",
       "  'ISK': 121.33,\n",
       "  'JEP': 0.743338,\n",
       "  'JMD': 159.591386,\n",
       "  'JOD': 0.709,\n",
       "  'JPY': 150.62785714,\n",
       "  'KES': 129.15,\n",
       "  'KGS': 87.45,\n",
       "  'KHR': 3996.394129,\n",
       "  'KMF': 421.000027,\n",
       "  'KPW': 900,\n",
       "  'KRW': 1412.536233,\n",
       "  'KWD': 0.30622,\n",
       "  'KYD': 0.830155,\n",
       "  'KZT': 542.094437,\n",
       "  'LAK': 21590.548419,\n",
       "  'LBP': 89549.114385,\n",
       "  'LKR': 301.230342,\n",
       "  'LRD': 180.796415,\n",
       "  'LSL': 17.203777,\n",
       "  'LYD': 5.39601,\n",
       "  'MAD': 9.097975,\n",
       "  'MDL': 16.815294,\n",
       "  'MGA': 4475,\n",
       "  'MKD': 52.720749,\n",
       "  'MMK': 2099.5,\n",
       "  'MNT': 3597.8,\n",
       "  'MOP': 7.986403,\n",
       "  'MRU': 39.775722,\n",
       "  'MUR': 45.449996,\n",
       "  'MVR': 15.31,\n",
       "  'MWK': 1727.263357,\n",
       "  'MXN': 18.368728,\n",
       "  'MYR': 4.217,\n",
       "  'MZN': 63.909994,\n",
       "  'NAD': 17.203777,\n",
       "  'NGN': 1467.28,\n",
       "  'NIO': 36.68,\n",
       "  'NOK': 9.93334,\n",
       "  'NPR': 141.481727,\n",
       "  'NZD': 1.719104,\n",
       "  'OMR': 0.384492,\n",
       "  'PAB': 1,\n",
       "  'PEN': 3.461,\n",
       "  'PGK': 4.178997,\n",
       "  'PHP': 58.170999,\n",
       "  'PKR': 281.25,\n",
       "  'PLN': 3.639941,\n",
       "  'PYG': 6977.7227,\n",
       "  'QAR': 3.6411,\n",
       "  'RON': 4.3555,\n",
       "  'RSD': 100.224116,\n",
       "  'RUB': 82.498951,\n",
       "  'RWF': 1448,\n",
       "  'SAR': 3.750722,\n",
       "  'SBD': 8.213864,\n",
       "  'SCR': 14.840357,\n",
       "  'SDG': 601.5,\n",
       "  'SEK': 9.386359,\n",
       "  'SGD': 1.292107,\n",
       "  'SHP': 0.743338,\n",
       "  'SLE': 23.315,\n",
       "  'SLL': 20969.5,\n",
       "  'SOS': 569.322777,\n",
       "  'SRD': 38.618,\n",
       "  'SSP': 130.26,\n",
       "  'STD': 22281.8,\n",
       "  'STN': 20.92488,\n",
       "  'SVC': 8.715779,\n",
       "  'SYP': 13002,\n",
       "  'SZL': 17.189001,\n",
       "  'THB': 32.519,\n",
       "  'TJS': 9.293898,\n",
       "  'TMT': 3.51,\n",
       "  'TND': 2.911194,\n",
       "  'TOP': 2.40776,\n",
       "  'TRY': 41.687901,\n",
       "  'TTD': 6.752273,\n",
       "  'TWD': 30.458,\n",
       "  'TZS': 2455,\n",
       "  'UAH': 41.150261,\n",
       "  'UGX': 3438.496492,\n",
       "  'USD': 1,\n",
       "  'UYU': 39.886654,\n",
       "  'UZS': 12050,\n",
       "  'VES': 185.166583,\n",
       "  'VND': 26365.5,\n",
       "  'VUV': 119.79,\n",
       "  'WST': 2.784,\n",
       "  'XAF': 561.28141,\n",
       "  'XAG': 0.02062568,\n",
       "  'XAU': 0.00025283,\n",
       "  'XCD': 2.70255,\n",
       "  'XCG': 1.795254,\n",
       "  'XDR': 0.69675,\n",
       "  'XOF': 561.28141,\n",
       "  'XPD': 0.00074339,\n",
       "  'XPF': 102.108352,\n",
       "  'XPT': 0.00061408,\n",
       "  'YER': 239.000058,\n",
       "  'ZAR': 17.203065,\n",
       "  'ZMW': 23.732882,\n",
       "  'ZWG': 26.783,\n",
       "  'ZWL': 322}}"
      ]
     },
     "execution_count": 18,
     "metadata": {},
     "output_type": "execute_result"
    }
   ],
   "source": [
    "data"
   ]
  },
  {
   "cell_type": "code",
   "execution_count": 19,
   "id": "8dd65121",
   "metadata": {},
   "outputs": [
    {
     "name": "stdout",
     "output_type": "stream",
     "text": [
      "AUD:1.51568\n"
     ]
    }
   ],
   "source": [
    "print(f\"AUD:{data['rates']['AUD']}\")"
   ]
  },
  {
   "cell_type": "code",
   "execution_count": null,
   "id": "53406fd0",
   "metadata": {},
   "outputs": [],
   "source": []
  }
 ],
 "metadata": {
  "kernelspec": {
   "display_name": "base",
   "language": "python",
   "name": "python3"
  },
  "language_info": {
   "codemirror_mode": {
    "name": "ipython",
    "version": 3
   },
   "file_extension": ".py",
   "mimetype": "text/x-python",
   "name": "python",
   "nbconvert_exporter": "python",
   "pygments_lexer": "ipython3",
   "version": "3.12.7"
  }
 },
 "nbformat": 4,
 "nbformat_minor": 5
}
