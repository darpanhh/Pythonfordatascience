{
 "cells": [
  {
   "cell_type": "markdown",
   "id": "3ce70b56",
   "metadata": {},
   "source": [
    "## Filter function"
   ]
  },
  {
   "cell_type": "code",
   "execution_count": 1,
   "id": "49dd0e91",
   "metadata": {},
   "outputs": [],
   "source": [
    "def even(num):\n",
    "    if num%2==0:\n",
    "        return True"
   ]
  },
  {
   "cell_type": "code",
   "execution_count": 2,
   "id": "17f86ea4",
   "metadata": {},
   "outputs": [
    {
     "data": {
      "text/plain": [
       "True"
      ]
     },
     "execution_count": 2,
     "metadata": {},
     "output_type": "execute_result"
    }
   ],
   "source": [
    "even(24)"
   ]
  },
  {
   "cell_type": "code",
   "execution_count": 4,
   "id": "867d0d0a",
   "metadata": {},
   "outputs": [
    {
     "data": {
      "text/plain": [
       "[2, 4, 6, 8, 10]"
      ]
     },
     "execution_count": 4,
     "metadata": {},
     "output_type": "execute_result"
    }
   ],
   "source": [
    "lst = [1,2,3,4,5,6,7,8,9,10]\n",
    "list(filter(even,lst))"
   ]
  },
  {
   "cell_type": "markdown",
   "id": "6d5b8301",
   "metadata": {},
   "source": [
    "## Filter with a lambda function"
   ]
  },
  {
   "cell_type": "code",
   "execution_count": 5,
   "id": "6e6a8f91",
   "metadata": {},
   "outputs": [],
   "source": [
    "numbers = [1,2,3,4,5,6,7,8,9,10]\n",
    "greater_than_five = list(filter(lambda x:x>5,numbers))"
   ]
  },
  {
   "cell_type": "code",
   "execution_count": 6,
   "id": "f940fdd1",
   "metadata": {},
   "outputs": [
    {
     "data": {
      "text/plain": [
       "[6, 7, 8, 9, 10]"
      ]
     },
     "execution_count": 6,
     "metadata": {},
     "output_type": "execute_result"
    }
   ],
   "source": [
    "greater_than_five"
   ]
  },
  {
   "cell_type": "markdown",
   "id": "38c32bf8",
   "metadata": {},
   "source": [
    "## Filter with a lambda function and multiple conditions"
   ]
  },
  {
   "cell_type": "code",
   "execution_count": 7,
   "id": "9718ca70",
   "metadata": {},
   "outputs": [
    {
     "name": "stdout",
     "output_type": "stream",
     "text": [
      "[6, 8, 10]\n"
     ]
    }
   ],
   "source": [
    "numbers = [1,2,3,4,5,6,7,8,9,10]\n",
    "even_and_greater_than_five = list(filter(lambda x:x>5 and x%2==0,numbers))\n",
    "print(even_and_greater_than_five)"
   ]
  },
  {
   "cell_type": "markdown",
   "id": "4f98ce3e",
   "metadata": {},
   "source": [
    "## Filter to check if age is greater than 25 in dictionary"
   ]
  },
  {
   "cell_type": "code",
   "execution_count": 8,
   "id": "5fdfaaff",
   "metadata": {},
   "outputs": [],
   "source": [
    "people=[\n",
    "    {'name':\"Darpan\",'age':20},\n",
    "    {'name':\"Ram\",'age':30},\n",
    "    {'name':\"Hari\",'age':35}  \n",
    "]\n",
    "def age_greater_than_25(person):\n",
    "    return person['age']>25"
   ]
  },
  {
   "cell_type": "code",
   "execution_count": 10,
   "id": "b474d6a7",
   "metadata": {},
   "outputs": [
    {
     "data": {
      "text/plain": [
       "[{'name': 'Ram', 'age': 30}, {'name': 'Hari', 'age': 35}]"
      ]
     },
     "execution_count": 10,
     "metadata": {},
     "output_type": "execute_result"
    }
   ],
   "source": [
    "list(filter(age_greater_than_25,people))"
   ]
  },
  {
   "cell_type": "markdown",
   "id": "3a65c117",
   "metadata": {},
   "source": [
    "## Positional Arguments"
   ]
  },
  {
   "cell_type": "code",
   "execution_count": 13,
   "id": "bec78508",
   "metadata": {},
   "outputs": [],
   "source": [
    "def print_numbers(*args):\n",
    "    for number in args:\n",
    "        print(number)"
   ]
  },
  {
   "cell_type": "code",
   "execution_count": 16,
   "id": "2d81032d",
   "metadata": {},
   "outputs": [
    {
     "name": "stdout",
     "output_type": "stream",
     "text": [
      "[1, 2, 3, 4, 5, 6, 7, 8, 'Darpan']\n"
     ]
    }
   ],
   "source": [
    "print_numbers([1,2,3,4,5,6,7,8,\"Darpan\"])"
   ]
  },
  {
   "cell_type": "markdown",
   "id": "2a51245a",
   "metadata": {},
   "source": [
    "## Keyword Arguments"
   ]
  },
  {
   "cell_type": "code",
   "execution_count": 17,
   "id": "33d9ebc7",
   "metadata": {},
   "outputs": [],
   "source": [
    "def print_details(**kwargs):\n",
    "    for key,value in kwargs.items():\n",
    "        print(f\"{key}:{value}\")"
   ]
  },
  {
   "cell_type": "code",
   "execution_count": 18,
   "id": "6f5ac144",
   "metadata": {},
   "outputs": [
    {
     "name": "stdout",
     "output_type": "stream",
     "text": [
      "name:Darpan\n",
      "age:20\n",
      "gender:Male\n"
     ]
    }
   ],
   "source": [
    "print_details(name=\"Darpan\",age=20,gender=\"Male\")"
   ]
  },
  {
   "cell_type": "markdown",
   "id": "fc6e1b24",
   "metadata": {},
   "source": [
    "## Combining both args and kwargs"
   ]
  },
  {
   "cell_type": "code",
   "execution_count": 19,
   "id": "a8966748",
   "metadata": {},
   "outputs": [],
   "source": [
    "def print_details(*args,**kwargs):\n",
    "    for val in args:\n",
    "        print(val)\n",
    "    for key,value in kwargs.items():\n",
    "        print(f\"{key}:{value}\")"
   ]
  },
  {
   "cell_type": "code",
   "execution_count": 20,
   "id": "77d51cc6",
   "metadata": {},
   "outputs": [
    {
     "name": "stdout",
     "output_type": "stream",
     "text": [
      "1\n",
      "2\n",
      "3\n",
      "4\n",
      "Darpan\n",
      "age:20\n",
      "country:Nepal\n",
      "hobby:Playing Games\n"
     ]
    }
   ],
   "source": [
    "print_details(1,2,3,4,\"Darpan\",age=20,country=\"Nepal\",hobby=\"Playing Games\")"
   ]
  },
  {
   "cell_type": "markdown",
   "id": "84ac8e7c",
   "metadata": {},
   "source": [
    "## Lambda functions "
   ]
  },
  {
   "cell_type": "code",
   "execution_count": null,
   "id": "891043a7",
   "metadata": {},
   "outputs": [],
   "source": [
    "def addition(a,b):\n",
    "    return a+b"
   ]
  },
  {
   "cell_type": "code",
   "execution_count": 22,
   "id": "c9f79eb8",
   "metadata": {},
   "outputs": [],
   "source": [
    "addition = lambda x,y:x+y"
   ]
  },
  {
   "cell_type": "code",
   "execution_count": 24,
   "id": "107786d0",
   "metadata": {},
   "outputs": [
    {
     "name": "stdout",
     "output_type": "stream",
     "text": [
      "5\n"
     ]
    }
   ],
   "source": [
    "print(addition(2,3))"
   ]
  },
  {
   "cell_type": "code",
   "execution_count": 25,
   "id": "5654ef5c",
   "metadata": {},
   "outputs": [],
   "source": [
    "even = lambda num: num%2==0"
   ]
  },
  {
   "cell_type": "code",
   "execution_count": 26,
   "id": "d38c7a4e",
   "metadata": {},
   "outputs": [
    {
     "data": {
      "text/plain": [
       "True"
      ]
     },
     "execution_count": 26,
     "metadata": {},
     "output_type": "execute_result"
    }
   ],
   "source": [
    "even(20)"
   ]
  },
  {
   "cell_type": "markdown",
   "id": "2774a393",
   "metadata": {},
   "source": [
    "## Map function"
   ]
  },
  {
   "cell_type": "code",
   "execution_count": 28,
   "id": "9ed9747d",
   "metadata": {},
   "outputs": [
    {
     "data": {
      "text/plain": [
       "4"
      ]
     },
     "execution_count": 28,
     "metadata": {},
     "output_type": "execute_result"
    }
   ],
   "source": [
    "numbers = [1,2,3,4,5,6]\n",
    "def square(number):\n",
    "    return number**2\n",
    "square(2)"
   ]
  },
  {
   "cell_type": "code",
   "execution_count": 30,
   "id": "7931caea",
   "metadata": {},
   "outputs": [
    {
     "data": {
      "text/plain": [
       "[1, 4, 9, 16, 25, 36]"
      ]
     },
     "execution_count": 30,
     "metadata": {},
     "output_type": "execute_result"
    }
   ],
   "source": [
    "list(map(square,numbers))"
   ]
  },
  {
   "cell_type": "code",
   "execution_count": 31,
   "id": "9dbcc5fa",
   "metadata": {},
   "outputs": [
    {
     "data": {
      "text/plain": [
       "[1, 4, 9, 16, 25, 36]"
      ]
     },
     "execution_count": 31,
     "metadata": {},
     "output_type": "execute_result"
    }
   ],
   "source": [
    "list(map(lambda x:x**2,numbers))"
   ]
  },
  {
   "cell_type": "markdown",
   "id": "ffae50ec",
   "metadata": {},
   "source": [
    "## Map multiple iterables"
   ]
  },
  {
   "cell_type": "code",
   "execution_count": 32,
   "id": "890be6a7",
   "metadata": {},
   "outputs": [
    {
     "name": "stdout",
     "output_type": "stream",
     "text": [
      "[5, 7, 9]\n"
     ]
    }
   ],
   "source": [
    "numbers1 = [1,2,3]\n",
    "numbers2 = [4,5,6]\n",
    "added_numbers = list(map(lambda x,y:x+y,numbers1,numbers2))\n",
    "print(added_numbers)"
   ]
  },
  {
   "cell_type": "markdown",
   "id": "14795c37",
   "metadata": {},
   "source": [
    "## Convert a list of strings to numbers"
   ]
  },
  {
   "cell_type": "code",
   "execution_count": 33,
   "id": "0119954b",
   "metadata": {},
   "outputs": [
    {
     "name": "stdout",
     "output_type": "stream",
     "text": [
      "[1, 2, 3, 4]\n"
     ]
    }
   ],
   "source": [
    "str_numbers = ['1','2','3','4']\n",
    "int_numbers = list(map(int,str_numbers))\n",
    "print(int_numbers)"
   ]
  },
  {
   "cell_type": "code",
   "execution_count": 34,
   "id": "ffda4e08",
   "metadata": {},
   "outputs": [
    {
     "name": "stdout",
     "output_type": "stream",
     "text": [
      "['APPLE', 'BANANA', 'CHERRY']\n"
     ]
    }
   ],
   "source": [
    "words = [\"apple\",\"banana\",\"cherry\"]\n",
    "upper_word = list(map(str.upper,words))\n",
    "print(upper_word)"
   ]
  },
  {
   "cell_type": "code",
   "execution_count": null,
   "id": "ac4c6a33",
   "metadata": {},
   "outputs": [],
   "source": [
    "def get_name(person):\n",
    "    return person['name']\n",
    "people = [\n",
    "    { 'name':\"Darpan\",'age':20},\n",
    "    { 'name':\"Hari\",'age':25}\n",
    "    ]"
   ]
  },
  {
   "cell_type": "code",
   "execution_count": 38,
   "id": "921f7a44",
   "metadata": {},
   "outputs": [
    {
     "data": {
      "text/plain": [
       "['Darpan', 'Hari']"
      ]
     },
     "execution_count": 38,
     "metadata": {},
     "output_type": "execute_result"
    }
   ],
   "source": [
    "list(map(get_name,people))"
   ]
  }
 ],
 "metadata": {
  "kernelspec": {
   "display_name": "base",
   "language": "python",
   "name": "python3"
  },
  "language_info": {
   "codemirror_mode": {
    "name": "ipython",
    "version": 3
   },
   "file_extension": ".py",
   "mimetype": "text/x-python",
   "name": "python",
   "nbconvert_exporter": "python",
   "pygments_lexer": "ipython3",
   "version": "3.12.7"
  }
 },
 "nbformat": 4,
 "nbformat_minor": 5
}
